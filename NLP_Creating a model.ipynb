{
 "cells": [
  {
   "cell_type": "markdown",
   "metadata": {},
   "source": [
    "# Sentiment Analysis"
   ]
  },
  {
   "cell_type": "markdown",
   "metadata": {},
   "source": [
    "### Machine learning based approach: Develop a classification model, which is trained using the pre-labeled dataset of positive, negative, and neutral."
   ]
  },
  {
   "cell_type": "code",
   "execution_count": 100,
   "metadata": {},
   "outputs": [],
   "source": [
    "# Import pandas\n",
    "import pandas as pd"
   ]
  },
  {
   "cell_type": "markdown",
   "metadata": {},
   "source": [
    "#### Loading Data"
   ]
  },
  {
   "cell_type": "code",
   "execution_count": 101,
   "metadata": {},
   "outputs": [],
   "source": [
    "data = pd.read_excel(\"C:/Users/Sushanth S/Class Lectures/Module-2/Lecture-5/NLP_Project/Labelled_data.xlsx\")"
   ]
  },
  {
   "cell_type": "code",
   "execution_count": 102,
   "metadata": {},
   "outputs": [
    {
     "data": {
      "text/html": [
       "<div>\n",
       "<style scoped>\n",
       "    .dataframe tbody tr th:only-of-type {\n",
       "        vertical-align: middle;\n",
       "    }\n",
       "\n",
       "    .dataframe tbody tr th {\n",
       "        vertical-align: top;\n",
       "    }\n",
       "\n",
       "    .dataframe thead th {\n",
       "        text-align: right;\n",
       "    }\n",
       "</style>\n",
       "<table border=\"1\" class=\"dataframe\">\n",
       "  <thead>\n",
       "    <tr style=\"text-align: right;\">\n",
       "      <th></th>\n",
       "      <th>Unnamed: 0</th>\n",
       "      <th>review</th>\n",
       "      <th>Cleaned Reviews</th>\n",
       "      <th>POS_tagged</th>\n",
       "      <th>Lemma</th>\n",
       "      <th>Vader Sentiment</th>\n",
       "      <th>Sentiment</th>\n",
       "    </tr>\n",
       "  </thead>\n",
       "  <tbody>\n",
       "    <tr>\n",
       "      <td>0</td>\n",
       "      <td>0</td>\n",
       "      <td>Once again Mr. Costner has dragged out a movie...</td>\n",
       "      <td>Once again Mr Costner has dragged out a movie ...</td>\n",
       "      <td>[('Mr', 'n'), ('Costner', 'n'), ('dragged', 'v...</td>\n",
       "      <td>Mr Costner drag movie far long necessary Asi...</td>\n",
       "      <td>0.9373</td>\n",
       "      <td>Positive</td>\n",
       "    </tr>\n",
       "    <tr>\n",
       "      <td>1</td>\n",
       "      <td>1</td>\n",
       "      <td>Story of a man who has unnatural feelings for ...</td>\n",
       "      <td>Story of a man who has unnatural feelings for ...</td>\n",
       "      <td>[('Story', 'n'), ('man', 'n'), ('unnatural', '...</td>\n",
       "      <td>Story man unnatural feeling pig Starts openi...</td>\n",
       "      <td>0.8176</td>\n",
       "      <td>Positive</td>\n",
       "    </tr>\n",
       "    <tr>\n",
       "      <td>2</td>\n",
       "      <td>2</td>\n",
       "      <td>Bromwell High is a cartoon comedy. It ran at t...</td>\n",
       "      <td>Bromwell High is a cartoon comedy It ran at th...</td>\n",
       "      <td>[('Bromwell', 'n'), ('High', 'n'), ('cartoon',...</td>\n",
       "      <td>Bromwell High cartoon comedy run time progra...</td>\n",
       "      <td>-0.1027</td>\n",
       "      <td>Neutral</td>\n",
       "    </tr>\n",
       "    <tr>\n",
       "      <td>3</td>\n",
       "      <td>3</td>\n",
       "      <td>OK its not the best film I've ever seen but at...</td>\n",
       "      <td>OK its not the best film I ve ever seen but at...</td>\n",
       "      <td>[('OK', None), ('best', 'a'), ('film', 'n'), (...</td>\n",
       "      <td>OK best film ever see time able sit watch TW...</td>\n",
       "      <td>0.9222</td>\n",
       "      <td>Positive</td>\n",
       "    </tr>\n",
       "    <tr>\n",
       "      <td>4</td>\n",
       "      <td>4</td>\n",
       "      <td>I was looking forward to this movie. Trustwort...</td>\n",
       "      <td>I was looking forward to this movie Trustworth...</td>\n",
       "      <td>[('looking', 'v'), ('forward', 'r'), ('movie',...</td>\n",
       "      <td>look forward movie Trustworthy actor interes...</td>\n",
       "      <td>0.9353</td>\n",
       "      <td>Positive</td>\n",
       "    </tr>\n",
       "  </tbody>\n",
       "</table>\n",
       "</div>"
      ],
      "text/plain": [
       "   Unnamed: 0                                             review  \\\n",
       "0           0  Once again Mr. Costner has dragged out a movie...   \n",
       "1           1  Story of a man who has unnatural feelings for ...   \n",
       "2           2  Bromwell High is a cartoon comedy. It ran at t...   \n",
       "3           3  OK its not the best film I've ever seen but at...   \n",
       "4           4  I was looking forward to this movie. Trustwort...   \n",
       "\n",
       "                                     Cleaned Reviews  \\\n",
       "0  Once again Mr Costner has dragged out a movie ...   \n",
       "1  Story of a man who has unnatural feelings for ...   \n",
       "2  Bromwell High is a cartoon comedy It ran at th...   \n",
       "3  OK its not the best film I ve ever seen but at...   \n",
       "4  I was looking forward to this movie Trustworth...   \n",
       "\n",
       "                                          POS_tagged  \\\n",
       "0  [('Mr', 'n'), ('Costner', 'n'), ('dragged', 'v...   \n",
       "1  [('Story', 'n'), ('man', 'n'), ('unnatural', '...   \n",
       "2  [('Bromwell', 'n'), ('High', 'n'), ('cartoon',...   \n",
       "3  [('OK', None), ('best', 'a'), ('film', 'n'), (...   \n",
       "4  [('looking', 'v'), ('forward', 'r'), ('movie',...   \n",
       "\n",
       "                                               Lemma  Vader Sentiment  \\\n",
       "0    Mr Costner drag movie far long necessary Asi...           0.9373   \n",
       "1    Story man unnatural feeling pig Starts openi...           0.8176   \n",
       "2    Bromwell High cartoon comedy run time progra...          -0.1027   \n",
       "3    OK best film ever see time able sit watch TW...           0.9222   \n",
       "4    look forward movie Trustworthy actor interes...           0.9353   \n",
       "\n",
       "  Sentiment  \n",
       "0  Positive  \n",
       "1  Positive  \n",
       "2   Neutral  \n",
       "3  Positive  \n",
       "4  Positive  "
      ]
     },
     "execution_count": 102,
     "metadata": {},
     "output_type": "execute_result"
    }
   ],
   "source": [
    "data.head()"
   ]
  },
  {
   "cell_type": "code",
   "execution_count": 103,
   "metadata": {},
   "outputs": [
    {
     "data": {
      "text/html": [
       "<div>\n",
       "<style scoped>\n",
       "    .dataframe tbody tr th:only-of-type {\n",
       "        vertical-align: middle;\n",
       "    }\n",
       "\n",
       "    .dataframe tbody tr th {\n",
       "        vertical-align: top;\n",
       "    }\n",
       "\n",
       "    .dataframe thead th {\n",
       "        text-align: right;\n",
       "    }\n",
       "</style>\n",
       "<table border=\"1\" class=\"dataframe\">\n",
       "  <thead>\n",
       "    <tr style=\"text-align: right;\">\n",
       "      <th></th>\n",
       "      <th>review</th>\n",
       "      <th>Cleaned Reviews</th>\n",
       "      <th>POS_tagged</th>\n",
       "      <th>Lemma</th>\n",
       "      <th>Vader Sentiment</th>\n",
       "      <th>Sentiment</th>\n",
       "    </tr>\n",
       "  </thead>\n",
       "  <tbody>\n",
       "    <tr>\n",
       "      <td>0</td>\n",
       "      <td>Once again Mr. Costner has dragged out a movie...</td>\n",
       "      <td>Once again Mr Costner has dragged out a movie ...</td>\n",
       "      <td>[('Mr', 'n'), ('Costner', 'n'), ('dragged', 'v...</td>\n",
       "      <td>Mr Costner drag movie far long necessary Asi...</td>\n",
       "      <td>0.9373</td>\n",
       "      <td>Positive</td>\n",
       "    </tr>\n",
       "    <tr>\n",
       "      <td>1</td>\n",
       "      <td>Story of a man who has unnatural feelings for ...</td>\n",
       "      <td>Story of a man who has unnatural feelings for ...</td>\n",
       "      <td>[('Story', 'n'), ('man', 'n'), ('unnatural', '...</td>\n",
       "      <td>Story man unnatural feeling pig Starts openi...</td>\n",
       "      <td>0.8176</td>\n",
       "      <td>Positive</td>\n",
       "    </tr>\n",
       "    <tr>\n",
       "      <td>2</td>\n",
       "      <td>Bromwell High is a cartoon comedy. It ran at t...</td>\n",
       "      <td>Bromwell High is a cartoon comedy It ran at th...</td>\n",
       "      <td>[('Bromwell', 'n'), ('High', 'n'), ('cartoon',...</td>\n",
       "      <td>Bromwell High cartoon comedy run time progra...</td>\n",
       "      <td>-0.1027</td>\n",
       "      <td>Neutral</td>\n",
       "    </tr>\n",
       "    <tr>\n",
       "      <td>3</td>\n",
       "      <td>OK its not the best film I've ever seen but at...</td>\n",
       "      <td>OK its not the best film I ve ever seen but at...</td>\n",
       "      <td>[('OK', None), ('best', 'a'), ('film', 'n'), (...</td>\n",
       "      <td>OK best film ever see time able sit watch TW...</td>\n",
       "      <td>0.9222</td>\n",
       "      <td>Positive</td>\n",
       "    </tr>\n",
       "    <tr>\n",
       "      <td>4</td>\n",
       "      <td>I was looking forward to this movie. Trustwort...</td>\n",
       "      <td>I was looking forward to this movie Trustworth...</td>\n",
       "      <td>[('looking', 'v'), ('forward', 'r'), ('movie',...</td>\n",
       "      <td>look forward movie Trustworthy actor interes...</td>\n",
       "      <td>0.9353</td>\n",
       "      <td>Positive</td>\n",
       "    </tr>\n",
       "  </tbody>\n",
       "</table>\n",
       "</div>"
      ],
      "text/plain": [
       "                                              review  \\\n",
       "0  Once again Mr. Costner has dragged out a movie...   \n",
       "1  Story of a man who has unnatural feelings for ...   \n",
       "2  Bromwell High is a cartoon comedy. It ran at t...   \n",
       "3  OK its not the best film I've ever seen but at...   \n",
       "4  I was looking forward to this movie. Trustwort...   \n",
       "\n",
       "                                     Cleaned Reviews  \\\n",
       "0  Once again Mr Costner has dragged out a movie ...   \n",
       "1  Story of a man who has unnatural feelings for ...   \n",
       "2  Bromwell High is a cartoon comedy It ran at th...   \n",
       "3  OK its not the best film I ve ever seen but at...   \n",
       "4  I was looking forward to this movie Trustworth...   \n",
       "\n",
       "                                          POS_tagged  \\\n",
       "0  [('Mr', 'n'), ('Costner', 'n'), ('dragged', 'v...   \n",
       "1  [('Story', 'n'), ('man', 'n'), ('unnatural', '...   \n",
       "2  [('Bromwell', 'n'), ('High', 'n'), ('cartoon',...   \n",
       "3  [('OK', None), ('best', 'a'), ('film', 'n'), (...   \n",
       "4  [('looking', 'v'), ('forward', 'r'), ('movie',...   \n",
       "\n",
       "                                               Lemma  Vader Sentiment  \\\n",
       "0    Mr Costner drag movie far long necessary Asi...           0.9373   \n",
       "1    Story man unnatural feeling pig Starts openi...           0.8176   \n",
       "2    Bromwell High cartoon comedy run time progra...          -0.1027   \n",
       "3    OK best film ever see time able sit watch TW...           0.9222   \n",
       "4    look forward movie Trustworthy actor interes...           0.9353   \n",
       "\n",
       "  Sentiment  \n",
       "0  Positive  \n",
       "1  Positive  \n",
       "2   Neutral  \n",
       "3  Positive  \n",
       "4  Positive  "
      ]
     },
     "execution_count": 103,
     "metadata": {},
     "output_type": "execute_result"
    }
   ],
   "source": [
    "# inorder to remove unnamed row:\n",
    "mydata = data.drop('Unnamed: 0', axis=1)\n",
    "mydata.head()"
   ]
  },
  {
   "cell_type": "code",
   "execution_count": 104,
   "metadata": {},
   "outputs": [
    {
     "data": {
      "text/html": [
       "<div>\n",
       "<style scoped>\n",
       "    .dataframe tbody tr th:only-of-type {\n",
       "        vertical-align: middle;\n",
       "    }\n",
       "\n",
       "    .dataframe tbody tr th {\n",
       "        vertical-align: top;\n",
       "    }\n",
       "\n",
       "    .dataframe thead th {\n",
       "        text-align: right;\n",
       "    }\n",
       "</style>\n",
       "<table border=\"1\" class=\"dataframe\">\n",
       "  <thead>\n",
       "    <tr style=\"text-align: right;\">\n",
       "      <th></th>\n",
       "      <th>review</th>\n",
       "      <th>Cleaned Reviews</th>\n",
       "      <th>Lemma</th>\n",
       "      <th>Vader Sentiment</th>\n",
       "      <th>Sentiment</th>\n",
       "    </tr>\n",
       "  </thead>\n",
       "  <tbody>\n",
       "    <tr>\n",
       "      <td>0</td>\n",
       "      <td>Once again Mr. Costner has dragged out a movie...</td>\n",
       "      <td>Once again Mr Costner has dragged out a movie ...</td>\n",
       "      <td>Mr Costner drag movie far long necessary Asi...</td>\n",
       "      <td>0.9373</td>\n",
       "      <td>Positive</td>\n",
       "    </tr>\n",
       "    <tr>\n",
       "      <td>1</td>\n",
       "      <td>Story of a man who has unnatural feelings for ...</td>\n",
       "      <td>Story of a man who has unnatural feelings for ...</td>\n",
       "      <td>Story man unnatural feeling pig Starts openi...</td>\n",
       "      <td>0.8176</td>\n",
       "      <td>Positive</td>\n",
       "    </tr>\n",
       "    <tr>\n",
       "      <td>2</td>\n",
       "      <td>Bromwell High is a cartoon comedy. It ran at t...</td>\n",
       "      <td>Bromwell High is a cartoon comedy It ran at th...</td>\n",
       "      <td>Bromwell High cartoon comedy run time progra...</td>\n",
       "      <td>-0.1027</td>\n",
       "      <td>Neutral</td>\n",
       "    </tr>\n",
       "    <tr>\n",
       "      <td>3</td>\n",
       "      <td>OK its not the best film I've ever seen but at...</td>\n",
       "      <td>OK its not the best film I ve ever seen but at...</td>\n",
       "      <td>OK best film ever see time able sit watch TW...</td>\n",
       "      <td>0.9222</td>\n",
       "      <td>Positive</td>\n",
       "    </tr>\n",
       "    <tr>\n",
       "      <td>4</td>\n",
       "      <td>I was looking forward to this movie. Trustwort...</td>\n",
       "      <td>I was looking forward to this movie Trustworth...</td>\n",
       "      <td>look forward movie Trustworthy actor interes...</td>\n",
       "      <td>0.9353</td>\n",
       "      <td>Positive</td>\n",
       "    </tr>\n",
       "  </tbody>\n",
       "</table>\n",
       "</div>"
      ],
      "text/plain": [
       "                                              review  \\\n",
       "0  Once again Mr. Costner has dragged out a movie...   \n",
       "1  Story of a man who has unnatural feelings for ...   \n",
       "2  Bromwell High is a cartoon comedy. It ran at t...   \n",
       "3  OK its not the best film I've ever seen but at...   \n",
       "4  I was looking forward to this movie. Trustwort...   \n",
       "\n",
       "                                     Cleaned Reviews  \\\n",
       "0  Once again Mr Costner has dragged out a movie ...   \n",
       "1  Story of a man who has unnatural feelings for ...   \n",
       "2  Bromwell High is a cartoon comedy It ran at th...   \n",
       "3  OK its not the best film I ve ever seen but at...   \n",
       "4  I was looking forward to this movie Trustworth...   \n",
       "\n",
       "                                               Lemma  Vader Sentiment  \\\n",
       "0    Mr Costner drag movie far long necessary Asi...           0.9373   \n",
       "1    Story man unnatural feeling pig Starts openi...           0.8176   \n",
       "2    Bromwell High cartoon comedy run time progra...          -0.1027   \n",
       "3    OK best film ever see time able sit watch TW...           0.9222   \n",
       "4    look forward movie Trustworthy actor interes...           0.9353   \n",
       "\n",
       "  Sentiment  \n",
       "0  Positive  \n",
       "1  Positive  \n",
       "2   Neutral  \n",
       "3  Positive  \n",
       "4  Positive  "
      ]
     },
     "execution_count": 104,
     "metadata": {},
     "output_type": "execute_result"
    }
   ],
   "source": [
    "# inorder to remove unnamed row:\n",
    "mydata = mydata.drop(['POS_tagged'], axis=1)\n",
    "mydata.head()"
   ]
  },
  {
   "cell_type": "code",
   "execution_count": 105,
   "metadata": {},
   "outputs": [],
   "source": [
    "# to convert the object to a data frame\n",
    "data1 = pd.DataFrame(data= mydata)"
   ]
  },
  {
   "cell_type": "code",
   "execution_count": 106,
   "metadata": {},
   "outputs": [
    {
     "data": {
      "text/html": [
       "<div>\n",
       "<style scoped>\n",
       "    .dataframe tbody tr th:only-of-type {\n",
       "        vertical-align: middle;\n",
       "    }\n",
       "\n",
       "    .dataframe tbody tr th {\n",
       "        vertical-align: top;\n",
       "    }\n",
       "\n",
       "    .dataframe thead th {\n",
       "        text-align: right;\n",
       "    }\n",
       "</style>\n",
       "<table border=\"1\" class=\"dataframe\">\n",
       "  <thead>\n",
       "    <tr style=\"text-align: right;\">\n",
       "      <th></th>\n",
       "      <th>review</th>\n",
       "      <th>Cleaned Reviews</th>\n",
       "      <th>Lemma</th>\n",
       "      <th>Vader Sentiment</th>\n",
       "      <th>Sentiment</th>\n",
       "    </tr>\n",
       "  </thead>\n",
       "  <tbody>\n",
       "    <tr>\n",
       "      <td>0</td>\n",
       "      <td>Once again Mr. Costner has dragged out a movie...</td>\n",
       "      <td>Once again Mr Costner has dragged out a movie ...</td>\n",
       "      <td>Mr Costner drag movie far long necessary Asi...</td>\n",
       "      <td>0.9373</td>\n",
       "      <td>Positive</td>\n",
       "    </tr>\n",
       "    <tr>\n",
       "      <td>1</td>\n",
       "      <td>Story of a man who has unnatural feelings for ...</td>\n",
       "      <td>Story of a man who has unnatural feelings for ...</td>\n",
       "      <td>Story man unnatural feeling pig Starts openi...</td>\n",
       "      <td>0.8176</td>\n",
       "      <td>Positive</td>\n",
       "    </tr>\n",
       "    <tr>\n",
       "      <td>2</td>\n",
       "      <td>Bromwell High is a cartoon comedy. It ran at t...</td>\n",
       "      <td>Bromwell High is a cartoon comedy It ran at th...</td>\n",
       "      <td>Bromwell High cartoon comedy run time progra...</td>\n",
       "      <td>-0.1027</td>\n",
       "      <td>Neutral</td>\n",
       "    </tr>\n",
       "    <tr>\n",
       "      <td>3</td>\n",
       "      <td>OK its not the best film I've ever seen but at...</td>\n",
       "      <td>OK its not the best film I ve ever seen but at...</td>\n",
       "      <td>OK best film ever see time able sit watch TW...</td>\n",
       "      <td>0.9222</td>\n",
       "      <td>Positive</td>\n",
       "    </tr>\n",
       "    <tr>\n",
       "      <td>4</td>\n",
       "      <td>I was looking forward to this movie. Trustwort...</td>\n",
       "      <td>I was looking forward to this movie Trustworth...</td>\n",
       "      <td>look forward movie Trustworthy actor interes...</td>\n",
       "      <td>0.9353</td>\n",
       "      <td>Positive</td>\n",
       "    </tr>\n",
       "    <tr>\n",
       "      <td>...</td>\n",
       "      <td>...</td>\n",
       "      <td>...</td>\n",
       "      <td>...</td>\n",
       "      <td>...</td>\n",
       "      <td>...</td>\n",
       "    </tr>\n",
       "    <tr>\n",
       "      <td>1023</td>\n",
       "      <td>Four things intrigued me as to this film - fir...</td>\n",
       "      <td>Four things intrigued me as to this film first...</td>\n",
       "      <td>Four thing intrigue film firstly star Carly ...</td>\n",
       "      <td>0.9702</td>\n",
       "      <td>Positive</td>\n",
       "    </tr>\n",
       "    <tr>\n",
       "      <td>1024</td>\n",
       "      <td>A Christmas Together actually came before my t...</td>\n",
       "      <td>A Christmas Together actually came before my t...</td>\n",
       "      <td>Christmas Together actually come time raise ...</td>\n",
       "      <td>0.9861</td>\n",
       "      <td>Positive</td>\n",
       "    </tr>\n",
       "    <tr>\n",
       "      <td>1025</td>\n",
       "      <td>This is one of the dumbest films, I've ever se...</td>\n",
       "      <td>This is one of the dumbest films I ve ever see...</td>\n",
       "      <td>one dumb film ever see rip nearly ever type ...</td>\n",
       "      <td>-0.8517</td>\n",
       "      <td>Negative</td>\n",
       "    </tr>\n",
       "    <tr>\n",
       "      <td>1026</td>\n",
       "      <td>David Bryce's comments nearby are exceptionall...</td>\n",
       "      <td>David Bryce s comments nearby are exceptionall...</td>\n",
       "      <td>David Bryce comment nearby exceptionally wel...</td>\n",
       "      <td>0.9889</td>\n",
       "      <td>Positive</td>\n",
       "    </tr>\n",
       "    <tr>\n",
       "      <td>1027</td>\n",
       "      <td>Working-class romantic drama from director Mar...</td>\n",
       "      <td>Working class romantic drama from director Mar...</td>\n",
       "      <td>Working class romantic drama director Martin...</td>\n",
       "      <td>0.9722</td>\n",
       "      <td>Positive</td>\n",
       "    </tr>\n",
       "  </tbody>\n",
       "</table>\n",
       "<p>1028 rows × 5 columns</p>\n",
       "</div>"
      ],
      "text/plain": [
       "                                                 review  \\\n",
       "0     Once again Mr. Costner has dragged out a movie...   \n",
       "1     Story of a man who has unnatural feelings for ...   \n",
       "2     Bromwell High is a cartoon comedy. It ran at t...   \n",
       "3     OK its not the best film I've ever seen but at...   \n",
       "4     I was looking forward to this movie. Trustwort...   \n",
       "...                                                 ...   \n",
       "1023  Four things intrigued me as to this film - fir...   \n",
       "1024  A Christmas Together actually came before my t...   \n",
       "1025  This is one of the dumbest films, I've ever se...   \n",
       "1026  David Bryce's comments nearby are exceptionall...   \n",
       "1027  Working-class romantic drama from director Mar...   \n",
       "\n",
       "                                        Cleaned Reviews  \\\n",
       "0     Once again Mr Costner has dragged out a movie ...   \n",
       "1     Story of a man who has unnatural feelings for ...   \n",
       "2     Bromwell High is a cartoon comedy It ran at th...   \n",
       "3     OK its not the best film I ve ever seen but at...   \n",
       "4     I was looking forward to this movie Trustworth...   \n",
       "...                                                 ...   \n",
       "1023  Four things intrigued me as to this film first...   \n",
       "1024  A Christmas Together actually came before my t...   \n",
       "1025  This is one of the dumbest films I ve ever see...   \n",
       "1026  David Bryce s comments nearby are exceptionall...   \n",
       "1027  Working class romantic drama from director Mar...   \n",
       "\n",
       "                                                  Lemma  Vader Sentiment  \\\n",
       "0       Mr Costner drag movie far long necessary Asi...           0.9373   \n",
       "1       Story man unnatural feeling pig Starts openi...           0.8176   \n",
       "2       Bromwell High cartoon comedy run time progra...          -0.1027   \n",
       "3       OK best film ever see time able sit watch TW...           0.9222   \n",
       "4       look forward movie Trustworthy actor interes...           0.9353   \n",
       "...                                                 ...              ...   \n",
       "1023    Four thing intrigue film firstly star Carly ...           0.9702   \n",
       "1024    Christmas Together actually come time raise ...           0.9861   \n",
       "1025    one dumb film ever see rip nearly ever type ...          -0.8517   \n",
       "1026    David Bryce comment nearby exceptionally wel...           0.9889   \n",
       "1027    Working class romantic drama director Martin...           0.9722   \n",
       "\n",
       "     Sentiment  \n",
       "0     Positive  \n",
       "1     Positive  \n",
       "2      Neutral  \n",
       "3     Positive  \n",
       "4     Positive  \n",
       "...        ...  \n",
       "1023  Positive  \n",
       "1024  Positive  \n",
       "1025  Negative  \n",
       "1026  Positive  \n",
       "1027  Positive  \n",
       "\n",
       "[1028 rows x 5 columns]"
      ]
     },
     "execution_count": 106,
     "metadata": {},
     "output_type": "execute_result"
    }
   ],
   "source": [
    "data1"
   ]
  },
  {
   "cell_type": "code",
   "execution_count": 107,
   "metadata": {},
   "outputs": [
    {
     "data": {
      "text/plain": [
       "Positive    513\n",
       "Negative    364\n",
       "Neutral     151\n",
       "Name: Sentiment, dtype: int64"
      ]
     },
     "execution_count": 107,
     "metadata": {},
     "output_type": "execute_result"
    }
   ],
   "source": [
    "# get the info of dataframe object \n",
    "data1.Sentiment.value_counts()"
   ]
  },
  {
   "cell_type": "code",
   "execution_count": 108,
   "metadata": {},
   "outputs": [],
   "source": [
    "import matplotlib.pyplot as plt"
   ]
  },
  {
   "cell_type": "code",
   "execution_count": 109,
   "metadata": {},
   "outputs": [
    {
     "data": {
      "image/png": "[encoded data removed]",
      "text/plain": [
       "<Figure size 432x288 with 1 Axes>"
      ]
     },
     "metadata": {
      "needs_background": "light"
     },
     "output_type": "display_data"
    }
   ],
   "source": [
    "Sentiment_count=data1.groupby('Sentiment').count()\n",
    "plt.bar(Sentiment_count.index.values, Sentiment_count['Lemma'])\n",
    "plt.xlabel('Review Sentiments')\n",
    "plt.ylabel('Number of Review')\n",
    "plt.show()"
   ]
  },
  {
   "cell_type": "markdown",
   "metadata": {},
   "source": [
    "#### Feature Generation using Bag of Words\n",
    "In the Text Classification Problem, we have a set of texts and their respective labels. But we directly can't use text for our model. You need to convert these text into some numbers or vectors of numbers.\n",
    "\n",
    "Bag-of-words model(BoW ) is the simplest way of extracting features from the text. BoW converts text into the matrix of occurrence of words within a document. This model concerns about whether given words occurred or not in the document.\n",
    "\n",
    "Example: There are three documents:\n",
    "\n",
    "Doc 1: I love dogs. Doc 2: I hate dogs and knitting. Doc 3: Knitting is my hobby and passion.\n",
    "\n",
    "Now, you can create a matrix of document and words by counting the occurrence of words in the given document. This matrix is known as Document-Term Matrix(DTM)."
   ]
  },
  {
   "attachments": {
    "image.png": {
     "image/png": "[encoded data removed]"
    }
   },
   "cell_type": "markdown",
   "metadata": {},
   "source": [
    "![image.png](attachment:image.png)# "
   ]
  },
  {
   "cell_type": "code",
   "execution_count": 110,
   "metadata": {},
   "outputs": [],
   "source": [
    "from sklearn.feature_extraction.text import CountVectorizer\n",
    "from nltk.tokenize import RegexpTokenizer\n",
    "\n",
    "#tokenizer to remove unwanted elements from out data like symbols and numbers\n",
    "\n",
    "token = RegexpTokenizer(r'[a-zA-Z0-9]+')\n",
    "cv = CountVectorizer(lowercase=True,stop_words='english',ngram_range = (1,1),tokenizer = token.tokenize)\n",
    "text_counts= cv.fit_transform(data1['Lemma'])"
   ]
  },
  {
   "cell_type": "markdown",
   "metadata": {},
   "source": [
    "### Split train and test set\n",
    "To understand model performance, dividing the dataset into a training set and a test set is a good strategy.\n",
    "\n",
    "Let's split dataset by using function train_test_split(). You need to pass basically 3 parameters features, target, and test_set size. Additionally, you can use random_state to select records randomly."
   ]
  },
  {
   "cell_type": "code",
   "execution_count": 111,
   "metadata": {},
   "outputs": [],
   "source": [
    "from sklearn.model_selection import train_test_split\n",
    "X_train, X_test, y_train, y_test = train_test_split(\n",
    "    text_counts, data1['Sentiment'], test_size=0.3, random_state=1)"
   ]
  },
  {
   "cell_type": "markdown",
   "metadata": {},
   "source": [
    "## Model Building and Evaluation\n",
    "Let's build the Text Classification Model using TF-IDF.\n",
    "\n",
    "First, import the MultinomialNB module and create a Multinomial Naive Bayes classifier object using MultinomialNB() function.\n",
    "\n",
    "Then, fit your model on a train set using fit() and perform prediction on the test set using predict()."
   ]
  },
  {
   "cell_type": "code",
   "execution_count": 112,
   "metadata": {},
   "outputs": [
    {
     "name": "stdout",
     "output_type": "stream",
     "text": [
      "MultinomialNB Accuracy: 0.6537216828478964\n"
     ]
    }
   ],
   "source": [
    "from sklearn.naive_bayes import MultinomialNB\n",
    "\n",
    "#Import scikit-learn metrics module for accuracy calculation\n",
    "\n",
    "from sklearn import metrics\n",
    "\n",
    "# Model Generation Using Multinomial Naive Bayes\n",
    "\n",
    "clf = MultinomialNB().fit(X_train, y_train)\n",
    "predicted= clf.predict(X_test)\n",
    "print(\"MultinomialNB Accuracy:\",metrics.accuracy_score(y_test, predicted))"
   ]
  },
  {
   "cell_type": "markdown",
   "metadata": {},
   "source": [
    "#### Well, you got a classification rate of 65% using CountVector(or BoW), which is not considered as good accuracy. We need to improve this."
   ]
  },
  {
   "attachments": {
    "image.png": {
     "image/png": "[encoded data removed]"
    }
   },
   "cell_type": "markdown",
   "metadata": {},
   "source": [
    "#### Feature Generation using TF-IDF\n",
    "In Term Frequency(TF), you just count the number of words occurred in each document. The main issue with this Term Frequency is that it will give more weight to longer documents. Term frequency is basically the output of the BoW model.\n",
    "\n",
    "IDF(Inverse Document Frequency) measures the amount of information a given word provides across the document. IDF is the logarithmically scaled inverse ratio of the number of documents that contain the word and the total number of documents.\n",
    "![image.png](attachment:image.png)\n",
    "TF-IDF(Term Frequency-Inverse Document Frequency) normalizes the document term matrix. It is the product of TF and IDF. Word with high tf-idf in a document, it is most of the times occurred in given documents and must be absent in the other documents. So the words must be a signature word.\n",
    "\n"
   ]
  },
  {
   "attachments": {
    "image.png": {
     "image/png": "[encoded data removed]"
    }
   },
   "cell_type": "markdown",
   "metadata": {},
   "source": [
    "# ![image.png](attachment:image.png)"
   ]
  },
  {
   "cell_type": "code",
   "execution_count": 46,
   "metadata": {},
   "outputs": [],
   "source": [
    "from sklearn.feature_extraction.text import TfidfVectorizer\n",
    "tf=TfidfVectorizer()\n",
    "text_tf= tf.fit_transform(data1['Lemma'])"
   ]
  },
  {
   "cell_type": "markdown",
   "metadata": {},
   "source": [
    "## Split train and test set (TF-IDF)\n",
    "Let's split dataset by using function train_test_split(). You need to pass basically 3 parameters features, target, and test_set size. Additionally, you can use random_state to select records randomly."
   ]
  },
  {
   "cell_type": "code",
   "execution_count": 47,
   "metadata": {},
   "outputs": [],
   "source": [
    "from sklearn.model_selection import train_test_split\n",
    "X_train, X_test, y_train, y_test = train_test_split(\n",
    "    text_tf, data1['Sentiment'], test_size=0.3, random_state=123)"
   ]
  },
  {
   "cell_type": "markdown",
   "metadata": {},
   "source": [
    "#### Model Building and Evaluation (TF-IDF)\n",
    "Let's build the Text Classification Model using TF-IDF.\n",
    "\n",
    "First, import the MultinomialNB module and create the Multinomial Naive Bayes classifier object using MultinomialNB() function.\n",
    "\n",
    "Then, fit your model on a train set using fit() and perform prediction on the test set using predict()."
   ]
  },
  {
   "cell_type": "code",
   "execution_count": 48,
   "metadata": {},
   "outputs": [
    {
     "name": "stdout",
     "output_type": "stream",
     "text": [
      "MultinomialNB Accuracy: 0.6083333333333333\n"
     ]
    }
   ],
   "source": [
    "from sklearn.naive_bayes import MultinomialNB\n",
    "from sklearn import metrics\n",
    "\n",
    "# Model Generation Using Multinomial Naive Bayes\n",
    "\n",
    "clf = MultinomialNB().fit(X_train, y_train)\n",
    "predicted= clf.predict(X_test)\n",
    "print(\"MultinomialNB Accuracy:\",metrics.accuracy_score(y_test, predicted))"
   ]
  },
  {
   "cell_type": "markdown",
   "metadata": {},
   "source": [
    "## Well, you got a classification rate of 60.8% using TF-IDF features, which is not considered as good accuracy. "
   ]
  },
  {
   "cell_type": "code",
   "execution_count": 113,
   "metadata": {},
   "outputs": [
    {
     "name": "stdout",
     "output_type": "stream",
     "text": [
      "0.6537216828478964\n"
     ]
    },
    {
     "data": {
      "text/plain": [
       "0.4777260981912144"
      ]
     },
     "execution_count": 113,
     "metadata": {},
     "output_type": "execute_result"
    }
   ],
   "source": [
    "from sklearn.metrics import f1_score\n",
    "\n",
    "print(accuracy_score(y_test, predicted))\n",
    "\n",
    "f1_score(y_test, predicted, average='macro')"
   ]
  },
  {
   "cell_type": "code",
   "execution_count": 114,
   "metadata": {},
   "outputs": [
    {
     "name": "stdout",
     "output_type": "stream",
     "text": [
      "[[ 75   0  48]\n",
      " [  9   1  31]\n",
      " [ 18   1 126]]\n"
     ]
    }
   ],
   "source": [
    "from sklearn.metrics import confusion_matrix\n",
    "print(confusion_matrix(y_test, predicted))"
   ]
  },
  {
   "cell_type": "code",
   "execution_count": 115,
   "metadata": {},
   "outputs": [
    {
     "name": "stdout",
     "output_type": "stream",
     "text": [
      "              precision    recall  f1-score   support\n",
      "\n",
      "    Negative       0.74      0.61      0.67       123\n",
      "     Neutral       0.50      0.02      0.05        41\n",
      "    Positive       0.61      0.87      0.72       145\n",
      "\n",
      "    accuracy                           0.65       309\n",
      "   macro avg       0.62      0.50      0.48       309\n",
      "weighted avg       0.65      0.65      0.61       309\n",
      "\n"
     ]
    }
   ],
   "source": [
    "from sklearn.metrics import classification_report\n",
    "\n",
    "print(classification_report(y_test, predicted))"
   ]
  },
  {
   "cell_type": "code",
   "execution_count": 147,
   "metadata": {},
   "outputs": [
    {
     "name": "stdout",
     "output_type": "stream",
     "text": [
      "                           review\n",
      "0          hi how god is the film\n",
      "1               nick is a bad guy\n",
      "2  juli likes only romantic movie\n",
      "  (0, 4)\t1\n",
      "  (0, 2)\t1\n",
      "  (0, 1)\t1\n",
      "  (1, 8)\t1\n",
      "  (1, 0)\t1\n",
      "  (1, 3)\t1\n",
      "  (2, 5)\t1\n",
      "  (2, 6)\t1\n",
      "  (2, 9)\t1\n",
      "  (2, 7)\t1\n"
     ]
    },
    {
     "ename": "ValueError",
     "evalue": "dimension mismatch",
     "output_type": "error",
     "traceback": [
      "\u001b[1;31m---------------------------------------------------------------------------\u001b[0m",
      "\u001b[1;31mValueError\u001b[0m                                Traceback (most recent call last)",
      "\u001b[1;32m<ipython-input-147-c35e627504a0>\u001b[0m in \u001b[0;36m<module>\u001b[1;34m\u001b[0m\n\u001b[0;32m     15\u001b[0m \u001b[0mtext_count\u001b[0m\u001b[1;33m=\u001b[0m \u001b[0mcv\u001b[0m\u001b[1;33m.\u001b[0m\u001b[0mfit_transform\u001b[0m\u001b[1;33m(\u001b[0m\u001b[0mdf\u001b[0m\u001b[1;33m[\u001b[0m\u001b[1;34m'review'\u001b[0m\u001b[1;33m]\u001b[0m\u001b[1;33m)\u001b[0m\u001b[1;33m\u001b[0m\u001b[1;33m\u001b[0m\u001b[0m\n\u001b[0;32m     16\u001b[0m \u001b[0mprint\u001b[0m\u001b[1;33m(\u001b[0m\u001b[0mtext_count\u001b[0m\u001b[1;33m)\u001b[0m\u001b[1;33m\u001b[0m\u001b[1;33m\u001b[0m\u001b[0m\n\u001b[1;32m---> 17\u001b[1;33m \u001b[0mclf\u001b[0m\u001b[1;33m.\u001b[0m\u001b[0mpredict\u001b[0m\u001b[1;33m(\u001b[0m\u001b[0mtext_count\u001b[0m\u001b[1;33m)\u001b[0m\u001b[1;33m\u001b[0m\u001b[1;33m\u001b[0m\u001b[0m\n\u001b[0m",
      "\u001b[1;32mC:\\ProgramData\\Anaconda3\\lib\\site-packages\\sklearn\\naive_bayes.py\u001b[0m in \u001b[0;36mpredict\u001b[1;34m(self, X)\u001b[0m\n\u001b[0;32m     63\u001b[0m             \u001b[0mPredicted\u001b[0m \u001b[0mtarget\u001b[0m \u001b[0mvalues\u001b[0m \u001b[1;32mfor\u001b[0m \u001b[0mX\u001b[0m\u001b[1;33m\u001b[0m\u001b[1;33m\u001b[0m\u001b[0m\n\u001b[0;32m     64\u001b[0m         \"\"\"\n\u001b[1;32m---> 65\u001b[1;33m         \u001b[0mjll\u001b[0m \u001b[1;33m=\u001b[0m \u001b[0mself\u001b[0m\u001b[1;33m.\u001b[0m\u001b[0m_joint_log_likelihood\u001b[0m\u001b[1;33m(\u001b[0m\u001b[0mX\u001b[0m\u001b[1;33m)\u001b[0m\u001b[1;33m\u001b[0m\u001b[1;33m\u001b[0m\u001b[0m\n\u001b[0m\u001b[0;32m     66\u001b[0m         \u001b[1;32mreturn\u001b[0m \u001b[0mself\u001b[0m\u001b[1;33m.\u001b[0m\u001b[0mclasses_\u001b[0m\u001b[1;33m[\u001b[0m\u001b[0mnp\u001b[0m\u001b[1;33m.\u001b[0m\u001b[0margmax\u001b[0m\u001b[1;33m(\u001b[0m\u001b[0mjll\u001b[0m\u001b[1;33m,\u001b[0m \u001b[0maxis\u001b[0m\u001b[1;33m=\u001b[0m\u001b[1;36m1\u001b[0m\u001b[1;33m)\u001b[0m\u001b[1;33m]\u001b[0m\u001b[1;33m\u001b[0m\u001b[1;33m\u001b[0m\u001b[0m\n\u001b[0;32m     67\u001b[0m \u001b[1;33m\u001b[0m\u001b[0m\n",
      "\u001b[1;32mC:\\ProgramData\\Anaconda3\\lib\\site-packages\\sklearn\\naive_bayes.py\u001b[0m in \u001b[0;36m_joint_log_likelihood\u001b[1;34m(self, X)\u001b[0m\n\u001b[0;32m    735\u001b[0m \u001b[1;33m\u001b[0m\u001b[0m\n\u001b[0;32m    736\u001b[0m         \u001b[0mX\u001b[0m \u001b[1;33m=\u001b[0m \u001b[0mcheck_array\u001b[0m\u001b[1;33m(\u001b[0m\u001b[0mX\u001b[0m\u001b[1;33m,\u001b[0m \u001b[0maccept_sparse\u001b[0m\u001b[1;33m=\u001b[0m\u001b[1;34m'csr'\u001b[0m\u001b[1;33m)\u001b[0m\u001b[1;33m\u001b[0m\u001b[1;33m\u001b[0m\u001b[0m\n\u001b[1;32m--> 737\u001b[1;33m         return (safe_sparse_dot(X, self.feature_log_prob_.T) +\n\u001b[0m\u001b[0;32m    738\u001b[0m                 self.class_log_prior_)\n\u001b[0;32m    739\u001b[0m \u001b[1;33m\u001b[0m\u001b[0m\n",
      "\u001b[1;32mC:\\ProgramData\\Anaconda3\\lib\\site-packages\\sklearn\\utils\\extmath.py\u001b[0m in \u001b[0;36msafe_sparse_dot\u001b[1;34m(a, b, dense_output)\u001b[0m\n\u001b[0;32m    135\u001b[0m     \"\"\"\n\u001b[0;32m    136\u001b[0m     \u001b[1;32mif\u001b[0m \u001b[0msparse\u001b[0m\u001b[1;33m.\u001b[0m\u001b[0missparse\u001b[0m\u001b[1;33m(\u001b[0m\u001b[0ma\u001b[0m\u001b[1;33m)\u001b[0m \u001b[1;32mor\u001b[0m \u001b[0msparse\u001b[0m\u001b[1;33m.\u001b[0m\u001b[0missparse\u001b[0m\u001b[1;33m(\u001b[0m\u001b[0mb\u001b[0m\u001b[1;33m)\u001b[0m\u001b[1;33m:\u001b[0m\u001b[1;33m\u001b[0m\u001b[1;33m\u001b[0m\u001b[0m\n\u001b[1;32m--> 137\u001b[1;33m         \u001b[0mret\u001b[0m \u001b[1;33m=\u001b[0m \u001b[0ma\u001b[0m \u001b[1;33m*\u001b[0m \u001b[0mb\u001b[0m\u001b[1;33m\u001b[0m\u001b[1;33m\u001b[0m\u001b[0m\n\u001b[0m\u001b[0;32m    138\u001b[0m         \u001b[1;32mif\u001b[0m \u001b[0mdense_output\u001b[0m \u001b[1;32mand\u001b[0m \u001b[0mhasattr\u001b[0m\u001b[1;33m(\u001b[0m\u001b[0mret\u001b[0m\u001b[1;33m,\u001b[0m \u001b[1;34m\"toarray\"\u001b[0m\u001b[1;33m)\u001b[0m\u001b[1;33m:\u001b[0m\u001b[1;33m\u001b[0m\u001b[1;33m\u001b[0m\u001b[0m\n\u001b[0;32m    139\u001b[0m             \u001b[0mret\u001b[0m \u001b[1;33m=\u001b[0m \u001b[0mret\u001b[0m\u001b[1;33m.\u001b[0m\u001b[0mtoarray\u001b[0m\u001b[1;33m(\u001b[0m\u001b[1;33m)\u001b[0m\u001b[1;33m\u001b[0m\u001b[1;33m\u001b[0m\u001b[0m\n",
      "\u001b[1;32mC:\\ProgramData\\Anaconda3\\lib\\site-packages\\scipy\\sparse\\base.py\u001b[0m in \u001b[0;36m__mul__\u001b[1;34m(self, other)\u001b[0m\n\u001b[0;32m    515\u001b[0m \u001b[1;33m\u001b[0m\u001b[0m\n\u001b[0;32m    516\u001b[0m             \u001b[1;32mif\u001b[0m \u001b[0mother\u001b[0m\u001b[1;33m.\u001b[0m\u001b[0mshape\u001b[0m\u001b[1;33m[\u001b[0m\u001b[1;36m0\u001b[0m\u001b[1;33m]\u001b[0m \u001b[1;33m!=\u001b[0m \u001b[0mself\u001b[0m\u001b[1;33m.\u001b[0m\u001b[0mshape\u001b[0m\u001b[1;33m[\u001b[0m\u001b[1;36m1\u001b[0m\u001b[1;33m]\u001b[0m\u001b[1;33m:\u001b[0m\u001b[1;33m\u001b[0m\u001b[1;33m\u001b[0m\u001b[0m\n\u001b[1;32m--> 517\u001b[1;33m                 \u001b[1;32mraise\u001b[0m \u001b[0mValueError\u001b[0m\u001b[1;33m(\u001b[0m\u001b[1;34m'dimension mismatch'\u001b[0m\u001b[1;33m)\u001b[0m\u001b[1;33m\u001b[0m\u001b[1;33m\u001b[0m\u001b[0m\n\u001b[0m\u001b[0;32m    518\u001b[0m \u001b[1;33m\u001b[0m\u001b[0m\n\u001b[0;32m    519\u001b[0m             \u001b[0mresult\u001b[0m \u001b[1;33m=\u001b[0m \u001b[0mself\u001b[0m\u001b[1;33m.\u001b[0m\u001b[0m_mul_multivector\u001b[0m\u001b[1;33m(\u001b[0m\u001b[0mnp\u001b[0m\u001b[1;33m.\u001b[0m\u001b[0masarray\u001b[0m\u001b[1;33m(\u001b[0m\u001b[0mother\u001b[0m\u001b[1;33m)\u001b[0m\u001b[1;33m)\u001b[0m\u001b[1;33m\u001b[0m\u001b[1;33m\u001b[0m\u001b[0m\n",
      "\u001b[1;31mValueError\u001b[0m: dimension mismatch"
     ]
    }
   ],
   "source": [
    "# Import pandas library\n",
    "import pandas as pd\n",
    " \n",
    "# initialize list of lists\n",
    "data = [['hi how god is the film'], ['nick is a bad guy'], ['juli likes only romantic movie']]\n",
    " \n",
    "# Create the pandas DataFrame\n",
    "df = pd.DataFrame(data, columns = ['review'])\n",
    " \n",
    "# print dataframe.\n",
    "print(df)\n",
    "\n",
    "\n",
    "cv = CountVectorizer(lowercase=True,stop_words='english',ngram_range = (1,1),tokenizer = token.tokenize)\n",
    "text_count= cv.fit_transform(df['review'])\n",
    "print(text_count)\n",
    "#clf.predict(text_count)"
   ]
  },
  {
   "cell_type": "code",
   "execution_count": 117,
   "metadata": {},
   "outputs": [
    {
     "data": {
      "text/plain": [
       "<1x3 sparse matrix of type '<class 'numpy.int64'>'\n",
       "\twith 3 stored elements in Compressed Sparse Row format>"
      ]
     },
     "execution_count": 117,
     "metadata": {},
     "output_type": "execute_result"
    }
   ],
   "source": [
    "text_count"
   ]
  },
  {
   "cell_type": "code",
   "execution_count": 95,
   "metadata": {},
   "outputs": [
    {
     "data": {
      "text/plain": [
       "<120x7592 sparse matrix of type '<class 'numpy.int64'>'\n",
       "\twith 9666 stored elements in Compressed Sparse Row format>"
      ]
     },
     "execution_count": 95,
     "metadata": {},
     "output_type": "execute_result"
    }
   ],
   "source": [
    "X_test"
   ]
  }
 ],
 "metadata": {
  "kernelspec": {
   "display_name": "Python 3",
   "language": "python",
   "name": "python3"
  },
  "language_info": {
   "codemirror_mode": {
    "name": "ipython",
    "version": 3
   },
   "file_extension": ".py",
   "mimetype": "text/x-python",
   "name": "python",
   "nbconvert_exporter": "python",
   "pygments_lexer": "ipython3",
   "version": "3.7.4"
  }
 },
 "nbformat": 4,
 "nbformat_minor": 2
}
