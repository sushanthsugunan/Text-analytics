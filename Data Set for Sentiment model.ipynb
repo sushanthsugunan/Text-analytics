{
 "cells": [
  {
   "cell_type": "markdown",
   "metadata": {},
   "source": [
    "# Movie review text files dowloaded for classification and model building"
   ]
  },
  {
   "cell_type": "code",
   "execution_count": 14,
   "metadata": {},
   "outputs": [],
   "source": [
    "import nltk\n",
    "import os\n",
    "# Folder Path\n",
    "path = \"C:/Users/Sushanth S/Class Lectures/Module-2/Lecture-5/NLP_Project\""
   ]
  },
  {
   "cell_type": "code",
   "execution_count": 15,
   "metadata": {},
   "outputs": [],
   "source": [
    "# Change the directory\n",
    "os.chdir(path)"
   ]
  },
  {
   "cell_type": "code",
   "execution_count": 16,
   "metadata": {},
   "outputs": [],
   "source": [
    "# Creating a function to read text file and get the information:\n",
    "def read_text_file(file_path):\n",
    "    with open(file_path, 'r') as f:\n",
    "        f.read()   "
   ]
  },
  {
   "cell_type": "code",
   "execution_count": 17,
   "metadata": {},
   "outputs": [],
   "source": [
    "import xlwt\n",
    "\n",
    "# Create workbook and worksheet\n",
    "\n",
    "wbk = xlwt.Workbook()\n",
    "\n",
    "sheet = wbk.add_sheet('python')\n",
    "\n",
    "row = 0  # row counter\n",
    "\n",
    "for file in os.listdir():\n",
    "    # Check whether file is in text format or not\n",
    "    if file.endswith(\".txt\"):\n",
    "        file_path = f\"{path}\\{file}\"\n",
    "  \n",
    "        # call read text file function\n",
    "        read_text_file(file_path)\n",
    "\n",
    "        # Open the text file\n",
    "        f = open(file)\n",
    "        \n",
    "        # for each line in opened file\n",
    "        for line in f:\n",
    "\n",
    "            # separate fields by commas\n",
    "\n",
    "            L = line.strip()   \n",
    "\n",
    "            sheet.write(row,0,L)   \n",
    "\n",
    "            row += 1\n",
    "        wbk.save('final_data.xls')"
   ]
  },
  {
   "cell_type": "code",
   "execution_count": 13,
   "metadata": {},
   "outputs": [],
   "source": [
    "# Final dataset in dataframe is ready for further analysis"
   ]
  },
  {
   "cell_type": "code",
   "execution_count": null,
   "metadata": {},
   "outputs": [],
   "source": []
  }
 ],
 "metadata": {
  "kernelspec": {
   "display_name": "Python 3",
   "language": "python",
   "name": "python3"
  },
  "language_info": {
   "codemirror_mode": {
    "name": "ipython",
    "version": 3
   },
   "file_extension": ".py",
   "mimetype": "text/x-python",
   "name": "python",
   "nbconvert_exporter": "python",
   "pygments_lexer": "ipython3",
   "version": "3.7.4"
  }
 },
 "nbformat": 4,
 "nbformat_minor": 2
}
